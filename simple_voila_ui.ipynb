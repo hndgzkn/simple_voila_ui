{
 "cells": [
  {
   "cell_type": "markdown",
   "metadata": {},
   "source": [
    "## Neurolang Voilà UI"
   ]
  },
  {
   "cell_type": "code",
   "execution_count": null,
   "metadata": {},
   "outputs": [],
   "source": [
    "import warnings  # type: ignore"
   ]
  },
  {
   "cell_type": "code",
   "execution_count": null,
   "metadata": {},
   "outputs": [],
   "source": [
    "warnings.filterwarnings(\"ignore\")"
   ]
  },
  {
   "cell_type": "code",
   "execution_count": null,
   "metadata": {
    "lines_to_end_of_cell_marker": 2,
    "lines_to_next_cell": 2
   },
   "outputs": [],
   "source": [
    "from neurolang import regions  # type: ignore\n",
    "from neurolang.frontend import NeurolangDL, ExplicitVBR  # type: ignore\n",
    "\n",
    "from nlweb.viewers.query import QueryWidget\n",
    "\n",
    "import nibabel as nib\n",
    "\n",
    "from nilearn import datasets  # type: ignore"
   ]
  },
  {
   "cell_type": "code",
   "execution_count": 1,
   "metadata": {},
   "outputs": [
    {
     "data": {
      "application/vnd.jupyter.widget-view+json": {
       "model_id": "64121b7d838e4a85a7c8536294f232ac",
       "version_major": 2,
       "version_minor": 0
      },
      "text/plain": [
       "Sheet(columns=5, layout=Layout(height='auto', width='auto'), rows=5)"
      ]
     },
     "metadata": {},
     "output_type": "display_data"
    }
   ],
   "source": [
    "from ipysheet import sheet\n",
    "\n",
    "sheet(row=2, col=2)"
   ]
  },
  {
   "cell_type": "markdown",
   "metadata": {
    "lines_to_next_cell": 2
   },
   "source": [
    "## Query Agent"
   ]
  },
  {
   "cell_type": "markdown",
   "metadata": {
    "lines_to_next_cell": 2
   },
   "source": [
    "### Functions"
   ]
  },
  {
   "cell_type": "code",
   "execution_count": null,
   "metadata": {},
   "outputs": [],
   "source": [
    "def init_agent():\n",
    "    \"\"\"\n",
    "    Set up the neurolang query runner (?) and add facts (?) to\n",
    "    the database\n",
    "    \"\"\"\n",
    "    nl = NeurolangDL()\n",
    "\n",
    "    @nl.add_symbol\n",
    "    def region_union(rs):\n",
    "        return regions.region_union(rs)\n",
    "\n",
    "    # TODO this can be removed after the bug is fixed\n",
    "    # currently symbols are listed twice\n",
    "    nl.reset_program()\n",
    "\n",
    "    return nl"
   ]
  },
  {
   "cell_type": "code",
   "execution_count": null,
   "metadata": {},
   "outputs": [],
   "source": [
    "def add_destrieux(nl):\n",
    "    nl.new_symbol(name=\"destrieux\")\n",
    "    destrieux_atlas = datasets.fetch_atlas_destrieux_2009()\n",
    "    destrieux_atlas_image = nib.load(destrieux_atlas[\"maps\"])\n",
    "    destrieux_labels = dict(destrieux_atlas[\"labels\"])\n",
    "\n",
    "    destrieux_set = set()\n",
    "    for k, v in destrieux_labels.items():\n",
    "        if k == 0:\n",
    "            continue\n",
    "        destrieux_set.add(\n",
    "            (\n",
    "                v.decode(\"utf8\"),\n",
    "                ExplicitVBR.from_spatial_image_label(destrieux_atlas_image, k),\n",
    "            )\n",
    "        )\n",
    "\n",
    "    nl.add_tuple_set(destrieux_set, name=\"destrieux\")\n",
    "\n",
    "\n",
    "def add_subramarginal(nl):\n",
    "    nl.load_neurosynth_term_regions(\"supramarginal\", name=\"neurosynth_supramarginal\")\n",
    "\n",
    "\n",
    "def add_def_mode_study(nl):\n",
    "    nl.load_neurosynth_term_study_ids(\n",
    "        term=\"default mode\", name=\"neurosynth_default_mode_study_id\"\n",
    "    )\n",
    "\n",
    "\n",
    "def add_pcc_study(nl):\n",
    "    nl.load_neurosynth_term_study_ids(term=\"pcc\", name=\"neurosynth_pcc_study_id\")\n",
    "\n",
    "\n",
    "def add_study_tf_idf(nl):\n",
    "    nl.load_neurosynth_study_tfidf_feature_for_terms(\n",
    "        terms=[\"default mode\", \"pcc\"], name=\"neurosynth_study_tfidf\"\n",
    "    )"
   ]
  },
  {
   "cell_type": "markdown",
   "metadata": {},
   "source": [
    "### Prepare engine"
   ]
  },
  {
   "cell_type": "code",
   "execution_count": null,
   "metadata": {},
   "outputs": [],
   "source": [
    "nl = init_agent()\n",
    "add_destrieux(nl)\n",
    "# add_subramarginal(nl)\n",
    "# add_def_mode_study(nl)\n",
    "# add_pcc_study(nl)\n",
    "# add_study_tf_idf(nl)"
   ]
  },
  {
   "cell_type": "markdown",
   "metadata": {},
   "source": [
    "## Query UI"
   ]
  },
  {
   "cell_type": "code",
   "execution_count": null,
   "metadata": {
    "lines_to_next_cell": 0
   },
   "outputs": [],
   "source": [
    "query = \"\".join(\n",
    "    \"ans(study_id, term, tfidf):-neurosynth_default_mode_study_id(study_id),\"\n",
    "    \"neurosynth_pcc_study_id(study_id),\"\n",
    "    \"neurosynth_study_tfidf(study_id, term, tfidf)\"\n",
    ")\n",
    "\n",
    "qw = QueryWidget(nl, query)\n",
    "qw"
   ]
  },
  {
   "cell_type": "code",
   "execution_count": null,
   "metadata": {
    "lines_to_next_cell": 2
   },
   "outputs": [],
   "source": []
  }
 ],
 "metadata": {
  "jupytext": {
   "cell_metadata_filter": "-all",
   "encoding": "# -*- coding: utf-8 -*-",
   "notebook_metadata_filter": "-all",
   "text_representation": {
    "extension": ".py",
    "format_name": "light"
   }
  },
  "kernelspec": {
   "display_name": "Python 3",
   "language": "python",
   "name": "python3"
  },
  "language_info": {
   "codemirror_mode": {
    "name": "ipython",
    "version": 3
   },
   "file_extension": ".py",
   "mimetype": "text/x-python",
   "name": "python",
   "nbconvert_exporter": "python",
   "pygments_lexer": "ipython3",
   "version": "3.7.3"
  },
  "toc": {
   "base_numbering": 1,
   "nav_menu": {},
   "number_sections": true,
   "sideBar": true,
   "skip_h1_title": true,
   "title_cell": "Table of Contents",
   "title_sidebar": "Contents",
   "toc_cell": false,
   "toc_position": {},
   "toc_section_display": true,
   "toc_window_display": true
  }
 },
 "nbformat": 4,
 "nbformat_minor": 4
}
